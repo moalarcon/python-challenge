{
 "cells": [
  {
   "cell_type": "code",
   "execution_count": 2,
   "metadata": {},
   "outputs": [],
   "source": [
    "import pandas as pd"
   ]
  },
  {
   "cell_type": "code",
   "execution_count": 3,
   "metadata": {},
   "outputs": [],
   "source": [
    "file = \"Resources/election_data.csv\""
   ]
  },
  {
   "cell_type": "code",
   "execution_count": 4,
   "metadata": {},
   "outputs": [
    {
     "data": {
      "text/html": [
       "<div>\n",
       "<style scoped>\n",
       "    .dataframe tbody tr th:only-of-type {\n",
       "        vertical-align: middle;\n",
       "    }\n",
       "\n",
       "    .dataframe tbody tr th {\n",
       "        vertical-align: top;\n",
       "    }\n",
       "\n",
       "    .dataframe thead th {\n",
       "        text-align: right;\n",
       "    }\n",
       "</style>\n",
       "<table border=\"1\" class=\"dataframe\">\n",
       "  <thead>\n",
       "    <tr style=\"text-align: right;\">\n",
       "      <th></th>\n",
       "      <th>Voter ID</th>\n",
       "      <th>County</th>\n",
       "      <th>Candidate</th>\n",
       "    </tr>\n",
       "  </thead>\n",
       "  <tbody>\n",
       "    <tr>\n",
       "      <th>0</th>\n",
       "      <td>12864552</td>\n",
       "      <td>Marsh</td>\n",
       "      <td>Khan</td>\n",
       "    </tr>\n",
       "    <tr>\n",
       "      <th>1</th>\n",
       "      <td>17444633</td>\n",
       "      <td>Marsh</td>\n",
       "      <td>Correy</td>\n",
       "    </tr>\n",
       "    <tr>\n",
       "      <th>2</th>\n",
       "      <td>19330107</td>\n",
       "      <td>Marsh</td>\n",
       "      <td>Khan</td>\n",
       "    </tr>\n",
       "    <tr>\n",
       "      <th>3</th>\n",
       "      <td>19865775</td>\n",
       "      <td>Queen</td>\n",
       "      <td>Khan</td>\n",
       "    </tr>\n",
       "    <tr>\n",
       "      <th>4</th>\n",
       "      <td>11927875</td>\n",
       "      <td>Marsh</td>\n",
       "      <td>Khan</td>\n",
       "    </tr>\n",
       "  </tbody>\n",
       "</table>\n",
       "</div>"
      ],
      "text/plain": [
       "   Voter ID County Candidate\n",
       "0  12864552  Marsh      Khan\n",
       "1  17444633  Marsh    Correy\n",
       "2  19330107  Marsh      Khan\n",
       "3  19865775  Queen      Khan\n",
       "4  11927875  Marsh      Khan"
      ]
     },
     "execution_count": 4,
     "metadata": {},
     "output_type": "execute_result"
    }
   ],
   "source": [
    "file_df = pd.read_csv(file)\n",
    "file_df.head()"
   ]
  },
  {
   "cell_type": "code",
   "execution_count": 8,
   "metadata": {},
   "outputs": [
    {
     "data": {
      "text/plain": [
       "Voter ID     3521001\n",
       "County       3521001\n",
       "Candidate    3521001\n",
       "dtype: int64"
      ]
     },
     "execution_count": 8,
     "metadata": {},
     "output_type": "execute_result"
    }
   ],
   "source": [
    "total_votes = file_df.count()\n",
    "#total_votes_df = pd.DataFrame(total_votes)\n",
    "#total_votes_df\n",
    "total_votes"
   ]
  },
  {
   "cell_type": "code",
   "execution_count": 9,
   "metadata": {},
   "outputs": [
    {
     "data": {
      "text/plain": [
       "Khan        2218231\n",
       "Correy       704200\n",
       "Li           492940\n",
       "O'Tooley     105630\n",
       "Name: Candidate, dtype: int64"
      ]
     },
     "execution_count": 9,
     "metadata": {},
     "output_type": "execute_result"
    }
   ],
   "source": [
    "candidates = file_df['Candidate'].value_counts()\n",
    "candidates"
   ]
  },
  {
   "cell_type": "code",
   "execution_count": 21,
   "metadata": {},
   "outputs": [
    {
     "data": {
      "text/html": [
       "<style  type=\"text/css\" >\n",
       "</style><table id=\"T_cbac849a_f3a7_11e9_9d85_784f435b9882\" ><thead>    <tr>        <th class=\"blank level0\" ></th>        <th class=\"col_heading level0 col0\" >Candidate</th>    </tr></thead><tbody>\n",
       "                <tr>\n",
       "                        <th id=\"T_cbac849a_f3a7_11e9_9d85_784f435b9882level0_row0\" class=\"row_heading level0 row0\" >Khan</th>\n",
       "                        <td id=\"T_cbac849a_f3a7_11e9_9d85_784f435b9882row0_col0\" class=\"data row0 col0\" >63%</td>\n",
       "            </tr>\n",
       "            <tr>\n",
       "                        <th id=\"T_cbac849a_f3a7_11e9_9d85_784f435b9882level0_row1\" class=\"row_heading level0 row1\" >Correy</th>\n",
       "                        <td id=\"T_cbac849a_f3a7_11e9_9d85_784f435b9882row1_col0\" class=\"data row1 col0\" >20%</td>\n",
       "            </tr>\n",
       "            <tr>\n",
       "                        <th id=\"T_cbac849a_f3a7_11e9_9d85_784f435b9882level0_row2\" class=\"row_heading level0 row2\" >Li</th>\n",
       "                        <td id=\"T_cbac849a_f3a7_11e9_9d85_784f435b9882row2_col0\" class=\"data row2 col0\" >14%</td>\n",
       "            </tr>\n",
       "            <tr>\n",
       "                        <th id=\"T_cbac849a_f3a7_11e9_9d85_784f435b9882level0_row3\" class=\"row_heading level0 row3\" >O'Tooley</th>\n",
       "                        <td id=\"T_cbac849a_f3a7_11e9_9d85_784f435b9882row3_col0\" class=\"data row3 col0\" >3%</td>\n",
       "            </tr>\n",
       "    </tbody></table>"
      ],
      "text/plain": [
       "<pandas.io.formats.style.Styler at 0x11b19d940>"
      ]
     },
     "execution_count": 21,
     "metadata": {},
     "output_type": "execute_result"
    }
   ],
   "source": [
    "percent_votes = file_df['Candidate'].value_counts() / 3521001\n",
    "percent_votes_df = pd.DataFrame(percent_votes)\n",
    "\n",
    "percent_votes_df = percent_votes_df.style.format({'Candidate': '{:,.0%}'.format})\n",
    "percent_votes_df"
   ]
  },
  {
   "cell_type": "code",
   "execution_count": 38,
   "metadata": {},
   "outputs": [
    {
     "name": "stdout",
     "output_type": "stream",
     "text": [
      "           Election Results           \n",
      "--------------------------------------\n",
      "     Candidates Percent_Vote Total_Votes\n",
      "0   Total_Votes                3,521,001\n",
      "1  Khan(winner)          63%   2,218,231\n",
      "2        Correy          20%     704,200\n",
      "3            Li          14%     492,940\n",
      "4      O'Tooley           3%     105,630\n"
     ]
    }
   ],
   "source": [
    "print(\"           Election Results           \")\n",
    "print(\"--------------------------------------\")\n",
    "#print(\"Total Votes: 3,521,001 ; Winner: Khan\")\n",
    "output_df = pd.DataFrame({                      \n",
    "    \"Candidates\": [\"Total_Votes\", \"Khan(winner)\", \"Correy\", \"Li\", \"O'Tooley\"],\n",
    "    \"Percent_Vote\": [\"\", \"63%\", \"20%\", \"14%\", \"3%\"],\n",
    "    \"Total_Votes\": [\"3,521,001\", \"2,218,231\", \"704,200\",\"492,940\", \"105,630\"]})\n",
    "print(output_df)"
   ]
  },
  {
   "cell_type": "code",
   "execution_count": 41,
   "metadata": {},
   "outputs": [],
   "source": [
    "output_df.to_csv(\"Main_Poll.csv\", index=False, header=True)"
   ]
  },
  {
   "cell_type": "code",
   "execution_count": null,
   "metadata": {},
   "outputs": [],
   "source": []
  }
 ],
 "metadata": {
  "kernelspec": {
   "display_name": "Python 3",
   "language": "python",
   "name": "python3"
  },
  "language_info": {
   "codemirror_mode": {
    "name": "ipython",
    "version": 3
   },
   "file_extension": ".py",
   "mimetype": "text/x-python",
   "name": "python",
   "nbconvert_exporter": "python",
   "pygments_lexer": "ipython3",
   "version": "3.7.3"
  }
 },
 "nbformat": 4,
 "nbformat_minor": 2
}
